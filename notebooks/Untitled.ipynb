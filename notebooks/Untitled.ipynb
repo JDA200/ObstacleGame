{
 "cells": [
  {
   "cell_type": "code",
   "execution_count": 6,
   "id": "329eda12-803f-42e5-a350-963e7156c2e0",
   "metadata": {},
   "outputs": [
    {
     "name": "stdout",
     "output_type": "stream",
     "text": [
      "0 item1\n",
      "1 item2\n"
     ]
    }
   ],
   "source": [
    "inventory = {'item1': 2,\n",
    "             'item2': 5}\n",
    "\n",
    "for i, key in enumerate(inventory):\n",
    "    print(i, key)"
   ]
  },
  {
   "cell_type": "code",
   "execution_count": 9,
   "id": "50f7d042-c66b-417e-8380-ca0d1d644f3c",
   "metadata": {},
   "outputs": [
    {
     "name": "stdout",
     "output_type": "stream",
     "text": [
      "0\n",
      "('item1', 2)\n",
      "1\n",
      "('item2', 5)\n"
     ]
    }
   ],
   "source": [
    "for i, j in enumerate(inventory.items()):\n",
    "    print(i)\n",
    "    print(j)"
   ]
  },
  {
   "cell_type": "code",
   "execution_count": 16,
   "id": "6796627e-136e-49d8-af5a-b6dc00951e5d",
   "metadata": {},
   "outputs": [
    {
     "ename": "KeyError",
     "evalue": "'item3'",
     "output_type": "error",
     "traceback": [
      "\u001b[0;31m---------------------------------------------------------------------------\u001b[0m",
      "\u001b[0;31mKeyError\u001b[0m                                  Traceback (most recent call last)",
      "Cell \u001b[0;32mIn[16], line 1\u001b[0m\n\u001b[0;32m----> 1\u001b[0m \u001b[43minventory\u001b[49m\u001b[43m[\u001b[49m\u001b[38;5;124;43m'\u001b[39;49m\u001b[38;5;124;43mitem3\u001b[39;49m\u001b[38;5;124;43m'\u001b[39;49m\u001b[43m]\u001b[49m\u001b[38;5;241m.\u001b[39mappend\n",
      "\u001b[0;31mKeyError\u001b[0m: 'item3'"
     ]
    }
   ],
   "source": [
    "inventory['item3'].append"
   ]
  },
  {
   "cell_type": "code",
   "execution_count": null,
   "id": "78b479e9-b39a-4361-97e6-62350bd0fe57",
   "metadata": {},
   "outputs": [],
   "source": []
  }
 ],
 "metadata": {
  "kernelspec": {
   "display_name": "Python 3 (ipykernel)",
   "language": "python",
   "name": "python3"
  },
  "language_info": {
   "codemirror_mode": {
    "name": "ipython",
    "version": 3
   },
   "file_extension": ".py",
   "mimetype": "text/x-python",
   "name": "python",
   "nbconvert_exporter": "python",
   "pygments_lexer": "ipython3",
   "version": "3.10.15"
  }
 },
 "nbformat": 4,
 "nbformat_minor": 5
}
